{
  "cells": [
    {
      "cell_type": "markdown",
      "metadata": {
        "id": "MA8PCZ-bpcil"
      },
      "source": [
        "# Homework 6: While Loops\n",
        "\n",
        "## **Submission Guidelines**\n",
        "* Focus on completing Exercises 1, 2 and 3. Exercises 4 and 5 are _stretch challenges_.\n",
        "* Submit your work as a single Python file (__`.py`__) or a Jupyter Notebook (__`.ipynb`__).\n",
        "* Clearly label each exercise and include comments to explain your logic.\n",
        "\n",
        "## Instructions\n",
        "\n",
        "Complete the following exercises in a single Python file or Jupyter Notebook. Clearly label each exercise and include comments explaining your logic. Use while loops, conditionals, list indexing (referring to the first element, the second element, etc.), and arithmetic operations.\n",
        "\n",
        "**Remember to start with the English steps, write pseudocode, then write code.**"
      ]
    },
    {
      "cell_type": "markdown",
      "metadata": {
        "id": "RMeSY06cpcin"
      },
      "source": [
        "## Exercise 1: Combined Basic While Loop and List Iteration\n",
        "\n",
        "### Part (a): Print Numbers 1 to 10\n",
        "\n",
        "Write a while loop that prints the numbers from 1 to 10 (each on a new line)."
      ]
    },
    {
      "cell_type": "code",
      "execution_count": 3,
      "metadata": {
        "colab": {
          "base_uri": "https://localhost:8080/"
        },
        "id": "srVsriBUpcin",
        "outputId": "bc33b180-43e9-4014-a7b3-92d9922abe3c"
      },
      "outputs": [
        {
          "output_type": "stream",
          "name": "stdout",
          "text": [
            "1\n",
            "2\n",
            "3\n",
            "4\n",
            "5\n",
            "6\n",
            "7\n",
            "8\n",
            "9\n",
            "10\n"
          ]
        }
      ],
      "source": [
        "# Exercise 1 (a): Print numbers 1 to 10 using a while loop\n",
        "\n",
        "# Your code here\n",
        "\n",
        "x = 1\n",
        "while x <= 10:\n",
        "  print(x)\n",
        "  x += 1\n",
        "\n",
        "\n",
        "# Bonus - try as a for loop\n"
      ]
    },
    {
      "cell_type": "markdown",
      "metadata": {
        "id": "XtXIfJqrpcio"
      },
      "source": [
        "### Part (b): List Iteration\n",
        "\n",
        "1. Create a list with 5 elements of your choice.\n",
        "2. Use a while loop to iterate through the list and print each element."
      ]
    },
    {
      "cell_type": "code",
      "execution_count": 7,
      "metadata": {
        "colab": {
          "base_uri": "https://localhost:8080/"
        },
        "id": "p-XSwVmnpcio",
        "outputId": "308fa3d9-8e37-405e-e5cc-86b9f751cbc2"
      },
      "outputs": [
        {
          "output_type": "stream",
          "name": "stdout",
          "text": [
            "The Five element is: [5, 10, 15, 20, 25]\n"
          ]
        }
      ],
      "source": [
        "# Exercise 1 (b): Create a list with 5 elements\n",
        "\n",
        "# Your code here\n",
        "\n",
        "Five_elements = [ 5, 10, 15, 20, 25]\n",
        "\n",
        "print(\"The Five element is:\", Five_elements)\n",
        "\n",
        "# Index = 0\n",
        "# while Index < len(Five_elements):\n",
        "#   print(\"The_five_elements is:\", Five_elements[Index])\n",
        "#   Index +=1\n",
        "\n"
      ]
    },
    {
      "cell_type": "code",
      "execution_count": 6,
      "metadata": {
        "colab": {
          "base_uri": "https://localhost:8080/"
        },
        "id": "_2qzA7xFpcip",
        "outputId": "9d1ecc2f-e779-4940-c98d-5b6ef5f79e7b"
      },
      "outputs": [
        {
          "output_type": "stream",
          "name": "stdout",
          "text": [
            "The_five_elements is: 5\n",
            "The_five_elements is: 10\n",
            "The_five_elements is: 15\n",
            "The_five_elements is: 20\n",
            "The_five_elements is: 25\n"
          ]
        }
      ],
      "source": [
        "# Exercise 1 (b): Use a while loop to iterate through the list and print each element\n",
        "\n",
        "# Your code here\n",
        "Index = 0\n",
        "while Index < len(Five_elements):\n",
        "  print(\"The_five_elements is:\", Five_elements[Index])\n",
        "  Index +=1\n",
        "\n"
      ]
    },
    {
      "cell_type": "markdown",
      "metadata": {
        "id": "tlf7zmDEpcip"
      },
      "source": [
        "## Exercise 2: Sum and Average\n",
        "\n",
        "1. Create a list of 5 numbers.\n",
        "2. Use a while loop to compute the sum of the numbers in the list.\n",
        "3. Calculate the average (total divided by the number of elements).\n",
        "4. Print the sum and the average."
      ]
    },
    {
      "cell_type": "code",
      "execution_count": 8,
      "metadata": {
        "id": "1wVRFf0Hpcip"
      },
      "outputs": [],
      "source": [
        "# Exercise 2, Step 1: Create a list of 5 numbers\n",
        "\n",
        "# Your code here\n",
        "\n",
        "Five_elements = [ 10, 15, 20, 25, 30]\n"
      ]
    },
    {
      "cell_type": "code",
      "execution_count": 11,
      "metadata": {
        "colab": {
          "base_uri": "https://localhost:8080/"
        },
        "id": "beDr7MDdpcip",
        "outputId": "8b7ba590-8336-4b90-a5e3-0a93211128e4"
      },
      "outputs": [
        {
          "output_type": "stream",
          "name": "stdout",
          "text": [
            "The sum of the total numbers is: 10\n",
            "The sum of the total numbers is: 25\n",
            "The sum of the total numbers is: 45\n",
            "The sum of the total numbers is: 70\n",
            "The sum of the total numbers is: 100\n"
          ]
        }
      ],
      "source": [
        "# Exercise 2, Step 2: Use a while loop to compute the sum of the numbers\n",
        "\n",
        "# Your code here\n",
        "\n",
        "\n",
        "Index = 0\n",
        "Sum = 0\n",
        "while Index < len(Five_elements):\n",
        " Sum = Sum + (Five_elements[Index])\n",
        " Index +=1\n",
        " print(\"The sum of the total numbers is:\", Sum)\n",
        "\n"
      ]
    },
    {
      "cell_type": "code",
      "execution_count": 12,
      "metadata": {
        "colab": {
          "base_uri": "https://localhost:8080/"
        },
        "id": "jv7uy6Skpciq",
        "outputId": "7f198ada-5f39-4794-8ba7-54ff6d028488"
      },
      "outputs": [
        {
          "output_type": "stream",
          "name": "stdout",
          "text": [
            "The total average is: 20.0\n"
          ]
        }
      ],
      "source": [
        "# Exercise 2, Step 3: Calculate the average (total divided by the number of elements)\n",
        "\n",
        "# Your code here\n",
        "\n",
        "Average = Sum / len(Five_elements)\n",
        "print(\"The total average is:\", Average)\n"
      ]
    },
    {
      "cell_type": "code",
      "execution_count": 13,
      "metadata": {
        "colab": {
          "base_uri": "https://localhost:8080/"
        },
        "id": "djIr5mEcpciq",
        "outputId": "3ea94673-f75a-4758-e404-7e02a6ddbbfb"
      },
      "outputs": [
        {
          "output_type": "stream",
          "name": "stdout",
          "text": [
            "The sum of the total numbers is: 100\n",
            "The total average is: 20.0\n"
          ]
        }
      ],
      "source": [
        "# Exercise 2, Step 4: Print the sum and the average\n",
        "\n",
        "# Your code here\n",
        "\n",
        "print(\"The sum of the total numbers is:\", Sum)\n",
        "print(\"The total average is:\", Average)\n",
        "\n"
      ]
    },
    {
      "cell_type": "markdown",
      "metadata": {
        "id": "LROVJ6Wapciq"
      },
      "source": [
        "## Exercise 3: Fizzbuzz\n",
        "\n",
        "A list of numbers from 1 to 100 is provided below. Write a while loop that iterates through this array. For each number, do the following:\n",
        "- If the number is divisible by 15, print **fizzbuzz**.\n",
        "- If the number is divisible by 5, print **buzz**.\n",
        "- If the number is divisible by 3, print **fizz**.\n",
        "- Otherwise, print the number."
      ]
    },
    {
      "cell_type": "code",
      "execution_count": 19,
      "metadata": {
        "colab": {
          "base_uri": "https://localhost:8080/"
        },
        "id": "RGeVw95Lpciq",
        "outputId": "b2148fbe-d011-4bbd-bf66-87888a687dbe"
      },
      "outputs": [
        {
          "output_type": "stream",
          "name": "stdout",
          "text": [
            "1\n",
            "2\n",
            "fizz\n",
            "4\n",
            "buzz\n",
            "fizz\n",
            "7\n",
            "8\n",
            "fizz\n",
            "buzz\n",
            "11\n",
            "fizz\n",
            "13\n",
            "14\n",
            "fizzbuzz\n",
            "16\n",
            "17\n",
            "fizz\n",
            "19\n",
            "buzz\n",
            "fizz\n",
            "22\n",
            "23\n",
            "fizz\n",
            "buzz\n",
            "26\n",
            "fizz\n",
            "28\n",
            "29\n",
            "fizzbuzz\n",
            "31\n",
            "32\n",
            "fizz\n",
            "34\n",
            "buzz\n",
            "fizz\n",
            "37\n",
            "38\n",
            "fizz\n",
            "buzz\n",
            "41\n",
            "fizz\n",
            "43\n",
            "44\n",
            "fizzbuzz\n",
            "46\n",
            "47\n",
            "fizz\n",
            "49\n",
            "buzz\n",
            "fizz\n",
            "52\n",
            "53\n",
            "fizz\n",
            "buzz\n",
            "56\n",
            "fizz\n",
            "58\n",
            "59\n",
            "fizzbuzz\n",
            "61\n",
            "62\n",
            "fizz\n",
            "64\n",
            "buzz\n",
            "fizz\n",
            "67\n",
            "68\n",
            "fizz\n",
            "buzz\n",
            "71\n",
            "fizz\n",
            "73\n",
            "74\n",
            "fizzbuzz\n",
            "76\n",
            "77\n",
            "fizz\n",
            "79\n",
            "buzz\n",
            "fizz\n",
            "82\n",
            "83\n",
            "fizz\n",
            "buzz\n",
            "86\n",
            "fizz\n",
            "88\n",
            "89\n",
            "fizzbuzz\n",
            "91\n",
            "92\n",
            "fizz\n",
            "94\n",
            "buzz\n",
            "fizz\n",
            "97\n",
            "98\n",
            "fizz\n",
            "buzz\n"
          ]
        }
      ],
      "source": [
        "# Exercise 3: Fizzbuzz\n",
        "numbers = [1, 2, 3, 4, 5, 6, 7, 8, 9, 10,\n",
        "           11, 12, 13, 14, 15, 16, 17, 18, 19, 20,\n",
        "           21, 22, 23, 24, 25, 26, 27, 28, 29, 30,\n",
        "           31, 32, 33, 34, 35, 36, 37, 38, 39, 40,\n",
        "           41, 42, 43, 44, 45, 46, 47, 48, 49, 50,\n",
        "           51, 52, 53, 54, 55, 56, 57, 58, 59, 60,\n",
        "           61, 62, 63, 64, 65, 66, 67, 68, 69, 70,\n",
        "           71, 72, 73, 74, 75, 76, 77, 78, 79, 80,\n",
        "           81, 82, 83, 84, 85, 86, 87, 88, 89, 90,\n",
        "           91, 92, 93, 94, 95, 96, 97, 98, 99, 100]\n",
        "\n",
        "# Your code here\n",
        "index = 0\n",
        "while index < len(numbers):\n",
        "  number = numbers[index]\n",
        "  if number % 15 == 0:\n",
        "    print(\"fizzbuzz\")\n",
        "  elif number % 5 == 0:\n",
        "    print(\"buzz\")\n",
        "  elif number % 3 == 0:\n",
        "    print(\"fizz\")\n",
        "  else:\n",
        "    print(number)\n",
        "  index += 1\n",
        "\n",
        "# Example Output:\n",
        "# 1\n",
        "# 2\n",
        "# Fizz\n",
        "# 4\n",
        "# Buzz\n",
        "# ...\n",
        "# ...\n",
        "# 14\n",
        "# FizzBuzz\n",
        "# 16\n",
        "# ...\n",
        "# etc..."
      ]
    },
    {
      "cell_type": "markdown",
      "metadata": {
        "id": "ZOgh9kGfpcir"
      },
      "source": [
        "## Exercise 4: Tax Calculation (Extra Hard)\n",
        "\n",
        "1. Create a list of 5 item prices (numbers).\n",
        "2. Set a tax rate (as a decimal, for example 0.08 for 8%).\n",
        "3. Using a while loop, iterate through the list:\n",
        "   - For each price, compute the price including tax.\n",
        "   - Accumulate the total cost including tax.\n",
        "4. Print the total cost including tax.\n",
        "5. (Optional) Calculate and print the average cost including tax."
      ]
    },
    {
      "cell_type": "code",
      "execution_count": null,
      "metadata": {
        "id": "wdKIP4Uxpcir"
      },
      "outputs": [],
      "source": [
        "# Exercise 4, Step 1: Create a list of 5 item prices\n",
        "\n",
        "# Your code here\n"
      ]
    },
    {
      "cell_type": "code",
      "execution_count": null,
      "metadata": {
        "id": "Zzmcx6u-pcir"
      },
      "outputs": [],
      "source": [
        "# Exercise 4, Step 2: Set a tax rate (e.g., 0.08 for 8% tax)\n",
        "\n",
        "# Your code here\n"
      ]
    },
    {
      "cell_type": "code",
      "execution_count": null,
      "metadata": {
        "id": "M58penbXpcir"
      },
      "outputs": [],
      "source": [
        "# Exercise 4, Step 3: Use a while loop to compute the price including tax for each item and accumulate the total cost\n",
        "\n",
        "# Your code here\n"
      ]
    },
    {
      "cell_type": "code",
      "execution_count": null,
      "metadata": {
        "id": "OixsUo0ipcir"
      },
      "outputs": [],
      "source": [
        "# Exercise 4, Step 4: Print the total cost including tax\n",
        "\n",
        "# Your code here\n"
      ]
    },
    {
      "cell_type": "code",
      "execution_count": null,
      "metadata": {
        "id": "fIVCx9y0pcis"
      },
      "outputs": [],
      "source": [
        "# Exercise 4, Optional Step 5: Calculate and print the average cost including tax\n",
        "\n",
        "# Your code here\n"
      ]
    },
    {
      "cell_type": "markdown",
      "metadata": {
        "id": "XxNkeuoKpcis"
      },
      "source": [
        "## Exercise 5: Sorting a List Using a While Loop (Nearly Impossible)\n",
        "\n",
        "1. Create a list of 5 numbers in random order.\n",
        "2. Implement a sort using a while loop and conditionals. Do not use any built-in sort functions.\n",
        "3. Print the sorted list in ascending order."
      ]
    },
    {
      "cell_type": "code",
      "execution_count": null,
      "metadata": {
        "id": "gvqiuidgpcis"
      },
      "outputs": [],
      "source": [
        "# Exercise 5, Step 1: Create a list of 5 numbers in random order\n",
        "\n",
        "# Your code here\n"
      ]
    },
    {
      "cell_type": "code",
      "execution_count": null,
      "metadata": {
        "id": "41piB_Udpcis"
      },
      "outputs": [],
      "source": [
        "# Exercise 5, Step 2: Implement a sort (e.g., bubble sort) using a while loop and conditionals\n",
        "\n",
        "# Your code here\n"
      ]
    },
    {
      "cell_type": "code",
      "execution_count": null,
      "metadata": {
        "id": "aoABgOn7pcis"
      },
      "outputs": [],
      "source": [
        "# Exercise 5, Step 3: Print the sorted list\n",
        "\n",
        "# Your code here\n"
      ]
    }
  ],
  "metadata": {
    "kernelspec": {
      "display_name": "Python 3",
      "language": "python",
      "name": "python3"
    },
    "language_info": {
      "name": "python",
      "version": "3.x"
    },
    "colab": {
      "provenance": []
    }
  },
  "nbformat": 4,
  "nbformat_minor": 0
}