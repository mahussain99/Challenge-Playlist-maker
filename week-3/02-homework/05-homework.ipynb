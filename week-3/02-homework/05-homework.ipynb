{
  "cells": [
    {
      "cell_type": "markdown",
      "metadata": {
        "id": "loT-pbP4W-GD"
      },
      "source": [
        "# Homework 5: Lists\n",
        "\n",
        "## **Submission Guidelines**\n",
        "* Focus on completing Exercises 1, 2 and 3. Exercises 4 and 5 are _stretch challenges_.\n",
        "* Submit your work as a single Python file (__`.py`__) or a Jupyter Notebook (__`.ipynb`__).\n",
        "* Clearly label each exercise and include comments to explain your logic.\n",
        "\n",
        "## Instructions\n",
        "\n",
        "Complete the following exercises in a single Python file or Jupyter Notebook. Clearly label each exercise and include comments explaining your logic. **Do not use loops or built-in aggregate functions in Exercises 4 and 5.** Use only basic variables, list indexing (referring to the first element, second element, etc.), conditionals, and arithmetic operations.\n",
        "\n",
        "**Remember to start with the English steps, write pseudocode, then write code.**"
      ]
    },
    {
      "cell_type": "markdown",
      "metadata": {
        "id": "zx2IBe8vW-GM"
      },
      "source": [
        "### Exercise 1: Basic List Operations\n",
        "\n",
        "1. **Create a List:** Write code to create a list with 5 elements of your choice.\n",
        "2. **Print the List:** Display the original list.\n",
        "3. **Modify the List:**\n",
        "   - Change the second element to a new value.\n",
        "   - Append a new element to the end of the list.\n",
        "   - Remove the third element from the list.\n",
        "4. **Print the Updated List:** Verify your modifications by printing the final list.\n"
      ]
    },
    {
      "cell_type": "code",
      "execution_count": 1,
      "metadata": {
        "colab": {
          "base_uri": "https://localhost:8080/"
        },
        "id": "c-Lj87QqW-GN",
        "outputId": "44d7b083-5729-4902-93d0-275d78b73b22"
      },
      "outputs": [
        {
          "output_type": "stream",
          "name": "stdout",
          "text": [
            "['New York', 'Jersey City', 'Miami', 'Los Angeles', 'Houston']\n"
          ]
        }
      ],
      "source": [
        "# Exercise 1, Step 1: Create a list with 5 elements\n",
        "\n",
        "# Your code here\n",
        "\n",
        "City = ['New York', 'Jersey City', 'Miami', 'Los Angeles', 'Houston']\n",
        "print(City)\n"
      ]
    },
    {
      "cell_type": "code",
      "execution_count": 2,
      "metadata": {
        "colab": {
          "base_uri": "https://localhost:8080/"
        },
        "id": "AuiZm75FW-GQ",
        "outputId": "a0fb04d0-d161-4b5b-f3f0-1a34a930d184"
      },
      "outputs": [
        {
          "output_type": "stream",
          "name": "stdout",
          "text": [
            "['New York', 'Jersey City', 'Miami', 'Los Angeles', 'Houston']\n"
          ]
        }
      ],
      "source": [
        "# Exercise 1, Step 2: Print the original list\n",
        "\n",
        "# Your code here\n",
        "\n",
        "City = ['New York', 'Jersey City', 'Miami', 'Los Angeles', 'Houston']\n",
        "print(City)\n"
      ]
    },
    {
      "cell_type": "code",
      "execution_count": null,
      "metadata": {
        "id": "jnUvFV5vW-GR"
      },
      "outputs": [],
      "source": [
        "# Exercise 1, Step 3: Modify the list\n",
        "# - Change the second element to a new value\n",
        "# - Append a new element to the end of the list\n",
        "# - Remove the third element from the list\n",
        "# Your code here"
      ]
    },
    {
      "cell_type": "code",
      "execution_count": 19,
      "metadata": {
        "colab": {
          "base_uri": "https://localhost:8080/"
        },
        "id": "hgbkw0rbW-GS",
        "outputId": "3f6f1072-ed09-41f7-f42d-32be7b4751cf"
      },
      "outputs": [
        {
          "output_type": "stream",
          "name": "stdout",
          "text": [
            "['New York', 'Jersey City', 'Miami', 'Los Angeles', 'Houston']\n",
            "Second values is: Jersey City\n",
            "New list in the city is Nevada ['New York', 'Nevada', 'Miami', 'Los Angeles', 'Houston']\n",
            "Chicago in the city list: ['New York', 'Nevada', 'Miami', 'Los Angeles', 'Houston', 'Chicago']\n",
            "Remove Miami from the city list ['New York', 'Nevada', 'Los Angeles', 'Houston', 'Chicago']\n"
          ]
        }
      ],
      "source": [
        "from os import remove\n",
        "# Exercise 1, Step 4: Print the updated list\n",
        "# Your code here\n",
        "\n",
        "City = ['New York', 'Jersey City', 'Miami', 'Los Angeles', 'Houston']\n",
        "print(City)\n",
        "\n",
        "# - Change the second element to a new value\n",
        "print( \"Second values is:\", City[1] )\n",
        "City[1] = 'Nevada'\n",
        "print(\"New list in the city is Nevada\", City)\n",
        "\n",
        "# - Append a new element to the end of the list\n",
        "City.append ('Chicago')\n",
        "print(\"Chicago in the city list:\", City)\n",
        "\n",
        "# - Remove the third element from the list\n",
        "City.remove('Miami')\n",
        "print(\"Remove Miami from the city list\", City)\n",
        "\n"
      ]
    },
    {
      "cell_type": "markdown",
      "metadata": {
        "id": "OwhotZsqW-GS"
      },
      "source": [
        "### Exercise 2: Membership Check\n",
        "\n",
        "1. **Create a List:** Write code to create a list with 5 colors of your choice.\n",
        "2. **Membership Check:** Check if the color \"blue\" is in your list.\n",
        "   - If it is present, print a message confirming that the list contains \"blue\".\n",
        "   - If it is not present, print a message indicating that \"blue\" is not in the list.\n",
        "\n",
        "*Note:* You do not need to retrieve the position of the element; simply print a confirmation message."
      ]
    },
    {
      "cell_type": "code",
      "execution_count": 21,
      "metadata": {
        "colab": {
          "base_uri": "https://localhost:8080/"
        },
        "id": "KVLb8F-PW-GT",
        "outputId": "afee3c95-dc2f-4fd5-c452-4795042677c2"
      },
      "outputs": [
        {
          "output_type": "stream",
          "name": "stdout",
          "text": [
            "['Red', 'Yellow', 'Green', 'Blue', ' Orange']\n"
          ]
        }
      ],
      "source": [
        "# Exercise 2, Step 1: Create a list with 5 colors\n",
        "\n",
        "# Your code here\n",
        "\n",
        "Colors = ['Red', 'Yellow', 'Green', 'Blue', ' Orange']\n",
        "print(Colors)\n"
      ]
    },
    {
      "cell_type": "code",
      "execution_count": 33,
      "metadata": {
        "colab": {
          "base_uri": "https://localhost:8080/"
        },
        "id": "RZYKUId0W-GT",
        "outputId": "2e6f1c52-e403-46b7-fa11-9a34aaa5c7f5"
      },
      "outputs": [
        {
          "output_type": "stream",
          "name": "stdout",
          "text": [
            "['Red', 'Yellow', 'Green', 'Blue', ' Orange']\n",
            "Show us Blue Color in the list and you are member in the store\n"
          ]
        }
      ],
      "source": [
        "# Exercise 2, Step 2: Check for membership of 'blue'\n",
        "\n",
        "# Your code here\n",
        "\n",
        "Colors = ['Red', 'Yellow', 'Green', 'Blue', ' Orange']\n",
        "print(Colors)\n",
        "\n",
        "\n",
        "if 'Blue' in Colors:\n",
        "  print(\"Show us Blue Color in the list and you are member in the store\")\n",
        "else:\n",
        "  print(\"Don't matching any color in the list and your not member in the store\")\n"
      ]
    },
    {
      "cell_type": "markdown",
      "metadata": {
        "id": "KUwiXXs_W-GU"
      },
      "source": [
        "### Exercise 3: Real-World List Modification (Hard)\n",
        "\n",
        "Imagine you are managing a set of 5 numbers (for example, representing test scores). Write a program that performs the following tasks (remember: the first element is the first, the second is the second, and so on):\n",
        "\n",
        "1. **Initialize the List:** Create a list of 5 numbers.\n",
        "2. **Conditional Adjustment:** Check if the third element is less than 50.\n",
        "   - If it is, update that element to 50.\n",
        "3. **Conditional Penalty:** Calculate the sum of the first element and the last element.\n",
        "   - If this sum is greater than 100, set the last element to 0.\n",
        "4. **Swap Operation:** Swap the first element with the third element.\n",
        "5. **Print the Final List:** Display the modified list.\n"
      ]
    },
    {
      "cell_type": "code",
      "execution_count": 20,
      "metadata": {
        "colab": {
          "base_uri": "https://localhost:8080/"
        },
        "id": "Jw8WbjYfW-GU",
        "outputId": "c2bf737f-3b1d-4b5b-dbe8-6f66117530ab"
      },
      "outputs": [
        {
          "output_type": "stream",
          "name": "stdout",
          "text": [
            "[30, 60, 40, 50, 70]\n"
          ]
        }
      ],
      "source": [
        "# Exercise 3, Step 1: Initialize a list of 5 numbers\n",
        "\n",
        "# Your code here\n",
        "Numbers = [30, 60, 40, 50, 70]\n",
        "print(Numbers)\n",
        "\n",
        "\n"
      ]
    },
    {
      "cell_type": "code",
      "execution_count": 24,
      "metadata": {
        "colab": {
          "base_uri": "https://localhost:8080/"
        },
        "id": "85lhoKJUW-GV",
        "outputId": "3e5d9088-9481-4679-9b7b-6e6c6d12d505"
      },
      "outputs": [
        {
          "output_type": "stream",
          "name": "stdout",
          "text": [
            "[30, 60, 40, 65, 70]\n",
            "Third element is less than 50\n",
            "Watch third number is changing 40 to 50\n",
            "[30, 60, 50, 65, 70]\n"
          ]
        }
      ],
      "source": [
        "# Exercise 3, Step 2: Conditional adjustment - if the third element is less than 50, update it to 50\n",
        "\n",
        "# Your code here\n",
        "Numbers = [30, 60, 40, 65, 70]\n",
        "print( Numbers)\n",
        "\n",
        "if Numbers[2] < 50:\n",
        "  print(\"Third element is less than 50\")\n",
        "  #Set third element is = 50\n",
        "  Numbers[2] = 50\n",
        "  print(\"Watch third number is changing 40 to 50\")\n",
        "  print(Numbers)\n",
        "else:\n",
        "  print(\" If not less than 50 don't change the numbers\")\n",
        "\n",
        "\n"
      ]
    },
    {
      "cell_type": "code",
      "execution_count": 25,
      "metadata": {
        "colab": {
          "base_uri": "https://localhost:8080/"
        },
        "id": "ITFHOmHmW-GV",
        "outputId": "ee841ed0-8e8f-4ae5-bd04-510a69b5cfb5"
      },
      "outputs": [
        {
          "output_type": "stream",
          "name": "stdout",
          "text": [
            "[30, 60, 40, 65, 90]\n",
            "The total number is = 120\n",
            "Set last element is 0\n",
            "[30, 60, 40, 65, 0]\n"
          ]
        }
      ],
      "source": [
        "# Exercise 3, Step 3: Conditional penalty - if the sum of the first and last elements is greater than 100, set the last element to 0\n",
        "\n",
        "\n",
        "# Your code here\n",
        "Numbers = [30, 60, 40, 65, 90]\n",
        "print(Numbers)\n",
        "\n",
        "total_Numbers = Numbers[0] + Numbers[4]\n",
        "print (\"The total number is =\", total_Numbers)\n",
        "\n",
        "if total_Numbers > 100:\n",
        " Numbers[4] = 0\n",
        " print(\"Set last element is 0\")\n",
        " print(Numbers)\n",
        "\n",
        "\n"
      ]
    },
    {
      "cell_type": "code",
      "execution_count": 26,
      "metadata": {
        "colab": {
          "base_uri": "https://localhost:8080/"
        },
        "id": "Az0IPuUIW-GV",
        "outputId": "9907b579-c85d-43d6-ef5f-3d7c08bc7921"
      },
      "outputs": [
        {
          "output_type": "stream",
          "name": "stdout",
          "text": [
            "[30, 60, 40, 65, 90]\n",
            "[40, 60, 30, 65, 90]\n"
          ]
        }
      ],
      "source": [
        "# Exercise 3, Step 4: Swap the first element with the third element\n",
        "\n",
        "# Your code here\n",
        "Numbers = [30, 60, 40, 65, 90]\n",
        "print(Numbers)\n",
        "\n",
        "X = Numbers[0]\n",
        "Numbers[0] = Numbers[2]\n",
        "Numbers[2] = X\n",
        "print(Numbers)\n",
        "\n",
        "\n"
      ]
    },
    {
      "cell_type": "code",
      "execution_count": 15,
      "metadata": {
        "colab": {
          "base_uri": "https://localhost:8080/"
        },
        "id": "qDCuriv8W-GW",
        "outputId": "dc85842e-b61b-4c7b-dbcf-2fc3347eaa3f"
      },
      "outputs": [
        {
          "output_type": "stream",
          "name": "stdout",
          "text": [
            "[30, 60, 50, 65, 70]\n"
          ]
        }
      ],
      "source": [
        "# Exercise 3, Step 5: Print the final list\n",
        "\n",
        "# Your code here\n",
        "\n",
        "print(Numbers)\n",
        "\n"
      ]
    },
    {
      "cell_type": "markdown",
      "metadata": {
        "id": "TG3awVjxW-GW"
      },
      "source": [
        "### Exercise 4: Manual Analysis Without Loops or Built-In Functions (Extra Hard)\n",
        "\n",
        "You are given a list of 10 numbers (for instance, representing grades). Without using loops or built-in functions (such as `sum()`, `len()`, etc.), complete the following tasks by manually accessing each element:\n",
        "\n",
        "1. **Create a List:** Write code to create a list with 10 numbers.\n",
        "2. **Compute the Total:** Manually add all the numbers by accessing each element individually.\n",
        "3. **Calculate the Average:** Divide the total by the number of elements in the list.\n",
        "4. **Determine the Highest Value:** Use `if` statements to compare the elements and determine the highest value.\n",
        "5. **Determine the Lowest Value:** Similarly, determine the lowest value among the elements.\n",
        "6. **Print Your Results:** Display the average, highest, and lowest values.\n"
      ]
    },
    {
      "cell_type": "code",
      "execution_count": null,
      "metadata": {
        "id": "eaGwkniVW-GW"
      },
      "outputs": [],
      "source": [
        "# Exercise 4, Step 1: Create a list with 10 numbers\n",
        "\n",
        "# Your code here\n"
      ]
    },
    {
      "cell_type": "code",
      "execution_count": null,
      "metadata": {
        "id": "hTA2Hj0WW-GW"
      },
      "outputs": [],
      "source": [
        "# Exercise 4, Step 2: Manually compute the total of all numbers\n",
        "\n",
        "# Your code here\n"
      ]
    },
    {
      "cell_type": "code",
      "execution_count": null,
      "metadata": {
        "id": "Obwd6neRW-GW"
      },
      "outputs": [],
      "source": [
        "# Exercise 4, Step 3: Calculate the average of the numbers\n",
        "\n",
        "# Your code here\n"
      ]
    },
    {
      "cell_type": "code",
      "execution_count": null,
      "metadata": {
        "id": "kKlUjgxhW-GW"
      },
      "outputs": [],
      "source": [
        "# Exercise 4, Step 4: Determine the highest value using if statements\n",
        "# Your code here"
      ]
    },
    {
      "cell_type": "code",
      "execution_count": null,
      "metadata": {
        "id": "xNPU0HM6W-GX"
      },
      "outputs": [],
      "source": [
        "# Exercise 4, Step 5: Determine the lowest value using if statements\n",
        "\n",
        "# Your code here\n"
      ]
    },
    {
      "cell_type": "code",
      "execution_count": null,
      "metadata": {
        "id": "rcynfiGcW-GX"
      },
      "outputs": [],
      "source": [
        "# Exercise 4, Step 6: Print the average, highest, and lowest values\n",
        "\n",
        "# Your code here\n"
      ]
    },
    {
      "cell_type": "markdown",
      "metadata": {
        "id": "31osFg4YW-GX"
      },
      "source": [
        "### Exercise 5: Vowel Filter Without Loops (Nearly Impossible)\n",
        "\n",
        "Create a program that filters a list of 7 strings to include only those that start with a vowel. **Do not use loops.** Instead, use individual conditional statements and manual indexing.\n",
        "\n",
        "1. **Create a List:** Write code to create a list with 7 strings of your choice.\n",
        "2. **Filter the List:** For each string in the list, check if its first character is a vowel (a, e, i, o, or u).\n",
        "   - *Hint:* To access the first character of a string, use `string[0]`.\n",
        "   - For each string that starts with a vowel, add it to a new list manually.\n",
        "3. **Print the New List:** Display the list of strings that begin with a vowel.\n"
      ]
    },
    {
      "cell_type": "code",
      "execution_count": null,
      "metadata": {
        "id": "cZHYpAp3W-GX"
      },
      "outputs": [],
      "source": [
        "# Exercise 5, Step 1: Create a list with 7 strings\n",
        "\n",
        "# Your code here\n"
      ]
    },
    {
      "cell_type": "code",
      "execution_count": null,
      "metadata": {
        "id": "fauqRupTW-GX"
      },
      "outputs": [],
      "source": [
        "# Exercise 5, Step 2: Filter the list to include only strings that start with a vowel\n",
        "\n",
        "# Your code here\n"
      ]
    },
    {
      "cell_type": "code",
      "execution_count": null,
      "metadata": {
        "id": "QYAMZwLdW-GX"
      },
      "outputs": [],
      "source": [
        "# Exercise 5, Step 3: Print the new list of strings that start with a vowel\n",
        "\n",
        "# Your code here\n"
      ]
    }
  ],
  "metadata": {
    "kernelspec": {
      "display_name": "Python 3",
      "language": "python",
      "name": "python3"
    },
    "language_info": {
      "name": "python",
      "version": "3.x"
    },
    "colab": {
      "provenance": []
    }
  },
  "nbformat": 4,
  "nbformat_minor": 0
}