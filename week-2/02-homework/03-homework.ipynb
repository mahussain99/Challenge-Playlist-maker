{
  "cells": [
    {
      "cell_type": "markdown",
      "metadata": {
        "id": "nOsns3toevrU"
      },
      "source": [
        "# Homework 3: Operations and Logic"
      ]
    },
    {
      "cell_type": "markdown",
      "metadata": {
        "id": "7UTk0wyBevrX"
      },
      "source": [
        "## **Submission Guidelines**\n",
        "* Focus on completing Exercises 1, 2 and 3. Exercises 4 and 5 are _stretch challenges_.\n",
        "* Submit your work as a single Python file (__`.py`__) or a Jupyter Notebook (__`.ipynb`__).\n",
        "* Clearly label each exercise and include comments to explain your logic.\n",
        "\n",
        "\n",
        "## Instructions"
      ]
    },
    {
      "cell_type": "markdown",
      "metadata": {
        "id": "3lQ2NiyXevrY"
      },
      "source": [
        "\n",
        "Copy this Jupyter Notebook and complete each exercise in the provided spaces.  \n",
        "\n",
        "- Clearly label each exercise and include comments explaining your logic.  \n",
        "- Focus on completing Exercises 1–3; Exercises 4 and 5 are a stretch challenge.\n",
        "- Modify the predefined variables as needed to test different cases.  \n",
        "\n",
        "**Remember to start with the English steps, write pseudocode, then write code.**"
      ]
    },
    {
      "cell_type": "markdown",
      "metadata": {
        "id": "c2R_ASW3evrY"
      },
      "source": [
        "## **Exercise 1: Basic Conditional Statements**"
      ]
    },
    {
      "cell_type": "markdown",
      "metadata": {
        "id": "1IUtTKbcevrZ"
      },
      "source": [
        "\n",
        "1. **Write a Conditional Statement:** A variable `temperature` is already defined.\n",
        "2. **Use an If-Else Statement:** If the temperature is greater than 80, print `\"It's hot!\"`; otherwise, print `\"It's not too hot.\"`"
      ]
    },
    {
      "cell_type": "code",
      "execution_count": 5,
      "metadata": {
        "colab": {
          "base_uri": "https://localhost:8080/"
        },
        "id": "ciD1qgL8evrZ",
        "outputId": "ab68020f-caa8-4a30-d9aa-c375c497955c"
      },
      "outputs": [
        {
          "output_type": "stream",
          "name": "stdout",
          "text": [
            "It's not too hot.\n",
            "Weather is Normal\n"
          ]
        }
      ],
      "source": [
        "# Exercise 1\n",
        "\n",
        "temperature = 75  # Change this value to test different conditions\n",
        "\n",
        "# Your if-else statement here\n",
        "if temperature > 80:\n",
        "  print(\"It's hot!\")\n",
        "else:\n",
        "    print(\"It's not too hot.\")\n",
        "\n",
        "#Different Conditions\n",
        "\n",
        "Sunny_Avg_Temperature = 85\n",
        "Cloudy_Avg_Temperature = 74\n",
        "Snow_Avg_Temperature = 29\n",
        "\n",
        "if Sunny_Avg_Temperature > 85:\n",
        "   print(\"Too hot!\")\n",
        "elif Cloudy_Avg_Temperature > 74 and Cloudy_Avg_Temperature <= 85:\n",
        "  print(\"It's not too hot\")\n",
        "elif Snow_Avg_Temperature < 29:\n",
        "  print(\"It's too cold\")\n",
        "else:\n",
        "  print(\"Weather is Normal\")"
      ]
    },
    {
      "cell_type": "markdown",
      "metadata": {
        "id": "W24nnB3Zevra"
      },
      "source": [
        "\n",
        "## **Exercise 2: Logical Operators**"
      ]
    },
    {
      "cell_type": "markdown",
      "metadata": {
        "id": "5G6En9w1evra"
      },
      "source": [
        "\n",
        "1. **Boolean Variables:** `is_raining` and `have_umbrella` are already defined.\n",
        "2. **Use Logical Operators:** Write an `if` statement that prints `\"You will stay dry\"` only if you have an umbrella or it's not raining."
      ]
    },
    {
      "cell_type": "code",
      "execution_count": 5,
      "metadata": {
        "colab": {
          "base_uri": "https://localhost:8080/"
        },
        "id": "I6MU5NREevrb",
        "outputId": "41a9e04c-f7c2-4cdb-9038-7d8acf5c7b27"
      },
      "outputs": [
        {
          "output_type": "stream",
          "name": "stdout",
          "text": [
            "You will not stay dry\n"
          ]
        }
      ],
      "source": [
        "# Exercise 2\n",
        "\n",
        "is_raining = True  # Change this to test\n",
        "have_umbrella = False  # Change this to test\n",
        "# Your conditional logic here\n",
        "\n",
        "if have_umbrella or not is_raining:\n",
        "  print(\"You will stay dry\")\n",
        "else:\n",
        "  print(\"You will not stay dry\")\n"
      ]
    },
    {
      "cell_type": "markdown",
      "metadata": {
        "id": "-8VPY8tkevrb"
      },
      "source": [
        "## **Exercise 3: Nested Conditions**"
      ]
    },
    {
      "cell_type": "markdown",
      "metadata": {
        "id": "suM9jZdzevrb"
      },
      "source": [
        "\n",
        "A **store discount system** follows these rules:\n",
        "- If a customer is a member, they get a 10% discount.\n",
        "- If they spend over $100, they get an additional 5% discount.\n",
        "- If they are not a member, they get no discount.\n",
        "\n",
        "Write a program that calculates the discount using predefined values for `is_member` and `total_spent`."
      ]
    },
    {
      "cell_type": "code",
      "execution_count": 9,
      "metadata": {
        "colab": {
          "base_uri": "https://localhost:8080/"
        },
        "id": "SPQzgBwTevrb",
        "outputId": "6d8cbc21-be9b-4c26-fa6c-9cd693a0b307"
      },
      "outputs": [
        {
          "output_type": "stream",
          "name": "stdout",
          "text": [
            "you will get 10 % and additional 5% discount\n",
            "you will not get discount\n",
            "Only membership discount apply\n"
          ]
        }
      ],
      "source": [
        "# Exercise 3\n",
        "\n",
        "is_member = True  # Change this value to test\n",
        "total_spent = 120  # Change this value to test\n",
        "\n",
        "# 1. Your logic here\n",
        "if is_member and total_spent > 100:\n",
        "  print(\"you will get 10 % and additional 5% discount\")\n",
        "else:\n",
        "  print(\"you will not get discount\")\n",
        "\n",
        "# 2. Your logic here\n",
        "if is_member or not total_spent > 100:\n",
        " print(\"you will not get discount\")\n",
        "elif is_member and total_spent > 120:\n",
        "  print(\"you will get 10% discount and additional 5% dicount\")\n",
        "else:\n",
        "    print(\" You are not member\")\n",
        "\n",
        "\n",
        "# 3. Your logic here\n",
        "\n",
        "if total_spent < 80 and is_member:\n",
        " print (\"You will not get the discount\")\n",
        "else:\n",
        " print(\"Only membership discount apply\")\n"
      ]
    },
    {
      "cell_type": "markdown",
      "metadata": {
        "id": "-JYQ1gmLevrc"
      },
      "source": [
        "\n",
        "## **Exercise 4: Manual Number Comparison (Extra Hard)**"
      ]
    },
    {
      "cell_type": "markdown",
      "metadata": {
        "id": "ne2b7gzxevrc"
      },
      "source": [
        "\n",
        "Given three numbers `a, b, c`, determine and print the **largest** and **smallest** **without using built-in functions** like `max()` or `min()`.\n",
        "\n",
        "- **Hint**: You must manually compare each number using nested `if` statements."
      ]
    },
    {
      "cell_type": "code",
      "execution_count": 14,
      "metadata": {
        "colab": {
          "base_uri": "https://localhost:8080/"
        },
        "id": "cZlGOnlAevrc",
        "outputId": "7281c5c3-537d-4f64-b341-fa0d838a9c84"
      },
      "outputs": [
        {
          "output_type": "stream",
          "name": "stdout",
          "text": [
            "b is larger value\n",
            "a is smaller value\n"
          ]
        }
      ],
      "source": [
        "# Exercise 4\n",
        "a = 10\n",
        "b = 20\n",
        "c = 15\n",
        "\n",
        "# Your logic here\n",
        "if  a > b and a > c :\n",
        " print(\"a is Larger Value\")\n",
        "elif b > a and c > b:\n",
        " print(\" c is larger value\")\n",
        "else:\n",
        "  print(\"b is larger value\")\n",
        "\n",
        "  if a < b and a < c:\n",
        "    print(\"a is smaller value\")\n",
        "  elif b < a and b < c:\n",
        "    print(\"b is smaller value\")\n",
        "  else:\n",
        "    print(\"c is smaller value\")\n",
        "\n",
        "\n",
        "\n"
      ]
    },
    {
      "cell_type": "markdown",
      "metadata": {
        "id": "1WSUfYWNevrc"
      },
      "source": [
        "## **Exercise 5: Nested Logical Puzzle (Nearly Impossible)**"
      ]
    },
    {
      "cell_type": "markdown",
      "metadata": {
        "id": "yhxU3Ic4evrc"
      },
      "source": [
        "\n",
        "You're given four integer variables: `a`, `b`, `c`, and `d`. Write a program to determine and print:\n",
        "\n",
        "1. **The second largest** number among the four variables **without using any built-in functions or sorting**.\n",
        "2. Additionally, identify if the second largest number is **even or odd** and print the result accordingly.\n",
        "\n",
        "You must solve this **only using nested conditional statements and logical operators**.\n",
        "\n",
        "**Example Output:**  \n",
        "```\n",
        "The second largest number is 42\n",
        "The second largest number is even.\n",
        "```\n",
        "\n",
        "This challenge demands careful consideration of multiple comparisons and conditions.\n"
      ]
    },
    {
      "cell_type": "code",
      "execution_count": 17,
      "metadata": {
        "colab": {
          "base_uri": "https://localhost:8080/"
        },
        "id": "C3zRPIEaevrc",
        "outputId": "46aa96e5-815c-47f9-c718-d104ca8ba21c"
      },
      "outputs": [
        {
          "output_type": "stream",
          "name": "stdout",
          "text": [
            "a and c is odd\n"
          ]
        }
      ],
      "source": [
        "# Exercise 5\n",
        "a = 25  # Change this to test\n",
        "b = 42  # Change this to test\n",
        "c = 37  # Change this to test\n",
        "d = 42  # Change this to test\n",
        "\n",
        "# Your logic here\n",
        "if a % 2 == 0:\n",
        "  print(\"a is even\")\n",
        "  if b % 2 == 0:\n",
        "    print(\"b is even\")\n",
        "    if c % 2 == 0:\n",
        "      print(\"c is even\")\n",
        "      if d % 2 == 0:\n",
        "        print(\"d is even\")\n",
        "else:\n",
        "  print(\"a and c is odd\")\n"
      ]
    }
  ],
  "metadata": {
    "kernelspec": {
      "display_name": "Python 3",
      "language": "python",
      "name": "python3"
    },
    "language_info": {
      "codemirror_mode": {
        "name": "ipython",
        "version": 3
      },
      "file_extension": ".py",
      "mimetype": "text/x-python",
      "name": "python",
      "nbconvert_exporter": "python",
      "pygments_lexer": "ipython3",
      "version": "3.12.2"
    },
    "colab": {
      "provenance": []
    }
  },
  "nbformat": 4,
  "nbformat_minor": 0
}