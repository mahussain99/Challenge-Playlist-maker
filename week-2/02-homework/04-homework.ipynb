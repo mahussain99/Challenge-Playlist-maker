{
  "cells": [
    {
      "cell_type": "markdown",
      "metadata": {
        "id": "fKmb0gKh8Fmm"
      },
      "source": [
        "# Homework 4: Advanced Logic"
      ]
    },
    {
      "cell_type": "markdown",
      "metadata": {
        "id": "M68bCc7o8Fmo"
      },
      "source": [
        "## **Submission Guidelines**"
      ]
    },
    {
      "cell_type": "markdown",
      "metadata": {
        "id": "WbwAoJb88Fmo"
      },
      "source": [
        "* Focus on completing Exercises 1-4. Exercises 5 are _stretch challenges_.\n",
        "* Submit your work as a single Python file (__`.py`__) or a Jupyter Notebook (__`.ipynb`__).\n",
        "* Clearly label each exercise and include comments to explain your logic."
      ]
    },
    {
      "cell_type": "markdown",
      "metadata": {
        "id": "7YqxQaX68Fmp"
      },
      "source": [
        "\n",
        "\n",
        "## Instructions"
      ]
    },
    {
      "cell_type": "markdown",
      "metadata": {
        "id": "F8xL4wse8Fmp"
      },
      "source": [
        "\n",
        "Copy this Jupyter Notebook and complete each exercise in the provided spaces.  \n",
        "\n",
        "- Clearly label each exercise and include comments explaining your logic.  \n",
        "- Focus on completing Exercises 1–4; Exercise 5 is a stretch challenge.\n",
        "- Modify the predefined variables as needed to test different cases.  \n",
        "\n",
        "**Remember to start with the English steps, write pseudocode, then write code.**"
      ]
    },
    {
      "cell_type": "markdown",
      "metadata": {
        "id": "ki0SvowF8Fmq"
      },
      "source": [
        "## **Exercise 1: Multi-Condition Decisions**"
      ]
    },
    {
      "cell_type": "markdown",
      "metadata": {
        "id": "dz4gA-nq8Fmq"
      },
      "source": [
        "\n",
        "A **movie rating system** follows these rules:\n",
        "   - If `age` is **less than 13**, print `\"PG movies only\"`.\n",
        "   - If `age` is **between 13 and 17**, print `\"PG-13 movies allowed\"`.\n",
        "   - Otherwise, print `\"All movies allowed\"`."
      ]
    },
    {
      "cell_type": "code",
      "execution_count": 15,
      "metadata": {
        "colab": {
          "base_uri": "https://localhost:8080/"
        },
        "id": "6lyTigwS8Fmq",
        "outputId": "d5b9a5c0-5bc8-486e-dc1f-d552a0c372df"
      },
      "outputs": [
        {
          "output_type": "stream",
          "name": "stdout",
          "text": [
            "PG_13 movies allowed\n"
          ]
        }
      ],
      "source": [
        "# Exercise 1\n",
        "\n",
        "age = 15  # Change this value to test\n",
        "\n",
        "\n",
        "# Your logic here\n",
        "\n",
        "if age < 13:\n",
        "  print (\"PG movies only\")\n",
        "elif age >= 13 and age <= 17:\n",
        "    print (\"PG_13 movies allowed\")\n",
        "else:\n",
        "    print(\"All movies allowed\")\n",
        "\n"
      ]
    },
    {
      "cell_type": "markdown",
      "metadata": {
        "id": "rktXNiN_8Fmr"
      },
      "source": [
        "## **Exercise 2: Decision Tree for Discounts**"
      ]
    },
    {
      "cell_type": "markdown",
      "metadata": {
        "id": "-KtnSn7X8Fmr"
      },
      "source": [
        "\n",
        "A **discount system** follows these rules:\n",
        "- If `is_student` is `True`, apply a 20% discount.\n",
        "- If `age` is **65 or older**, apply a 15% discount.\n",
        "- If both conditions are met, apply the higher discount only."
      ]
    },
    {
      "cell_type": "code",
      "execution_count": 12,
      "metadata": {
        "colab": {
          "base_uri": "https://localhost:8080/"
        },
        "id": "1tM6PZlX8Fms",
        "outputId": "b3d0e128-9f0d-4608-a6f8-c129da7698e9"
      },
      "outputs": [
        {
          "output_type": "stream",
          "name": "stdout",
          "text": [
            " Senior get 15 % discount = 8.4915\n"
          ]
        }
      ],
      "source": [
        "# Exercise 2\n",
        "\n",
        "is_student = False  # Change this value to test\n",
        "age = 70  # Change this value to test\n",
        "price = 9.99 # my own price\n",
        "discount = 0.0\n",
        "\n",
        "\n",
        "# Your logic here\n",
        "\n",
        "if is_student and age >= 65:\n",
        "  discount = 0.20\n",
        "  print( \" Student and senior get 20% discount =\", (price)-(price * discount))\n",
        "\n",
        "elif age >= 65:\n",
        "  discount = 0.15\n",
        "  print(\" Senior get 15 % discount =\", (price)-(price * discount))\n",
        "\n",
        "elif is_student:\n",
        "  discount = 0.20\n",
        "  print(\"only Student get 20% discount\", (price)-(price * discount))\n",
        "else:\n",
        "  print(\" Show up regular price on the item \")\n",
        "\n",
        "\n",
        "\n",
        "\n",
        "\n"
      ]
    },
    {
      "cell_type": "markdown",
      "metadata": {
        "id": "U9Hdf_WK8Fms"
      },
      "source": [
        "\n",
        "## **Exercise 3: Loan Approval System**"
      ]
    },
    {
      "cell_type": "markdown",
      "metadata": {
        "id": "mwxStxqM8Fms"
      },
      "source": [
        "\n",
        "A **loan approval system** follows these rules:\n",
        "- Applicant **must be at least 18**.\n",
        "- Loan is **approved** if `income` is over **40k** OR `credit_score` is above **700**.\n",
        "- If the applicant has `has_debt = True`, then **both** conditions are required."
      ]
    },
    {
      "cell_type": "code",
      "execution_count": 57,
      "metadata": {
        "colab": {
          "base_uri": "https://localhost:8080/"
        },
        "id": "yoIwLuP88Fms",
        "outputId": "2e35a4dc-147b-42b2-a05f-5e2f55e8a0cc"
      },
      "outputs": [
        {
          "output_type": "stream",
          "name": "stdout",
          "text": [
            " Applicant loan is approved\n"
          ]
        }
      ],
      "source": [
        "# Exercise 3\n",
        "\n",
        "age = 30  # Change this value to test\n",
        "income = 45000  # Change this value to test\n",
        "credit_score = 710  # Change this value to test\n",
        "has_debt = False  # Change this value to test\n",
        "\n",
        "# Your logic here\n",
        "if age < 18 and has_debt != True:\n",
        " print (\"Don't approved loan\")\n",
        "\n",
        "elif age >= 18 and (income > 40000 or credit_score > 700):\n",
        " print(\" Applicant loan is approved\")\n",
        "\n",
        "else:\n",
        "  print (\" Applicant not eligible for loan\")\n",
        "\n"
      ]
    },
    {
      "cell_type": "markdown",
      "metadata": {
        "id": "BLINKfAX8Fms"
      },
      "source": [
        "## **Exercise 4: Complex Weather Decision System**"
      ]
    },
    {
      "cell_type": "markdown",
      "metadata": {
        "id": "S1ipJ1vD8Fms"
      },
      "source": [
        "\n",
        "A **weather advisory system** follows these rules:\n",
        "- If `temperature` is **below 32°F**, print `\"Freezing warning\"`.\n",
        "- If `temperature` is **between 32°F and 50°F**, print `\"Cold weather\"`.\n",
        "- If `temperature` is **above 50°F** and `humidity` is **above 70%**, print `\"Warm but humid\"`.\n",
        "- Otherwise, print `\"Mild weather\"`.\n"
      ]
    },
    {
      "cell_type": "code",
      "execution_count": 14,
      "metadata": {
        "colab": {
          "base_uri": "https://localhost:8080/"
        },
        "id": "wxLn5t-A8Fmt",
        "outputId": "853a39db-2a8c-4fc5-8e77-36cbe9c60497"
      },
      "outputs": [
        {
          "output_type": "stream",
          "name": "stdout",
          "text": [
            " Warm but humid\n"
          ]
        }
      ],
      "source": [
        "# Exercise 4\n",
        "\n",
        "temperature = 55  # Change this value to test\n",
        "humidity = 80  # Change this value to test\n",
        "\n",
        "# Your logic here\n",
        "\n",
        "if temperature < 32:\n",
        " print(\"Freezing warning\")\n",
        "elif temperature >= 32 and temperature <= 50:\n",
        " print(\"cold weather\")\n",
        "elif temperature > 50 and humidity > 70:\n",
        " print(\" Warm but humid\")\n",
        "else:\n",
        "  print(\" Mild Weather\")\n"
      ]
    },
    {
      "cell_type": "markdown",
      "metadata": {
        "id": "l3a7H0jy8Fmt"
      },
      "source": [
        "## **Exercise 5: Advanced Multi-Step Bank Security System (Extra Hard)**"
      ]
    },
    {
      "cell_type": "markdown",
      "metadata": {
        "id": "LwaIdlNZ8Fmt"
      },
      "source": [
        "\n",
        "Design a **bank security system** that follows these rules:\n",
        "- If `is_employee = True`, grant full access.\n",
        "- If `is_manager = True`, grant access to sensitive files.\n",
        "- If `is_customer = True` and `account_balance > 1000`, allow transactions.\n",
        "- If none of the conditions apply, print `\"Access Denied\"`.\n",
        "- **Extended Rule:** If `security_alert = True`, deny all access regardless of other conditions."
      ]
    },
    {
      "cell_type": "code",
      "execution_count": null,
      "metadata": {
        "id": "WC9zuuBo8Fmu"
      },
      "outputs": [],
      "source": [
        "# Exercise 5\n",
        "\n",
        "is_employee = False  # Change this value to test\n",
        "is_manager = False  # Change this value to test\n",
        "is_customer = True  # Change this value to test\n",
        "account_balance = 5000  # Change this value to test\n",
        "security_alert = False  # Change this value to test\n",
        "\n",
        "# Your logic here\n"
      ]
    }
  ],
  "metadata": {
    "language_info": {
      "name": "python"
    },
    "colab": {
      "provenance": []
    },
    "kernelspec": {
      "name": "python3",
      "display_name": "Python 3"
    }
  },
  "nbformat": 4,
  "nbformat_minor": 0
}