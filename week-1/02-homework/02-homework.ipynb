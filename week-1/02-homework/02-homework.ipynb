{
  "cells": [
    {
      "cell_type": "markdown",
      "id": "76639b6d-da73-4e1e-8aaa-0070a2403485",
      "metadata": {
        "id": "76639b6d-da73-4e1e-8aaa-0070a2403485"
      },
      "source": [
        "# Homework 2: Variables and Boolean Expressions\n",
        "\n",
        "## **Submission Guidelines**\n",
        "* Focus on completing Exercises 1-4. Exercise 5 is a _stretch challenge_.\n",
        "* Submit your work as a single Python file (__`.py`__) or a Jupyter Notebook (__`.ipynb`__).\n",
        "* Clearly label each exercise and include comments to explain your logic.\n",
        "\n",
        "## Instructions\n",
        "\n",
        "Complete the following exercises in a single Python file or Jupyter Notebook. Clearly label each exercise and when needed, include comments explaining your logic. Focus on completing Exercise 1 through 4. Exercise 5 is a _stretch challenge_."
      ]
    },
    {
      "cell_type": "markdown",
      "id": "1b3cec93-6b5b-4d78-81ab-17ab17b75a25",
      "metadata": {
        "id": "1b3cec93-6b5b-4d78-81ab-17ab17b75a25"
      },
      "source": [
        "### Exercise 1: Variables\n",
        "* Each scenario below describes some data to be manipulated by your code. Choose appropriate variable names (and values) and create variables/expressions for these scenarios.\n",
        "  "
      ]
    },
    {
      "cell_type": "markdown",
      "id": "8a3f8bb8-024e-4645-b633-356db225d206",
      "metadata": {
        "id": "8a3f8bb8-024e-4645-b633-356db225d206"
      },
      "source": [
        "1. Determine the cost of some number of pounds of cement. Assume there is a sales tax that applies.\n",
        "  "
      ]
    },
    {
      "cell_type": "code",
      "execution_count": 15,
      "id": "d0fe743d-1acd-41a8-a0b9-92aedc8fc0a4",
      "metadata": {
        "colab": {
          "base_uri": "https://localhost:8080/"
        },
        "id": "d0fe743d-1acd-41a8-a0b9-92aedc8fc0a4",
        "outputId": "c6ac9b2c-14fb-4ceb-c85d-801c72d39686"
      },
      "outputs": [
        {
          "output_type": "stream",
          "name": "stdout",
          "text": [
            "500\n",
            "31.25\n",
            "531.25\n",
            "531.25\n"
          ]
        }
      ],
      "source": [
        "# Exercise 1 - Part 1\n",
        "\n",
        "# Each cost of cement included tax rate\n",
        "price_per_pound_cement = 2\n",
        "total_pound_cement = 250\n",
        "NJ_sale_tax = 0.0625\n",
        "\n",
        "# Here is before before tax total price\n",
        "total_price_of_cement = (price_per_pound_cement * total_pound_cement)\n",
        "print(total_price_of_cement)\n",
        "\n",
        "# total tax amount\n",
        "total_tax_amount = (total_price_of_cement*NJ_sale_tax)\n",
        "print (total_tax_amount)\n",
        "\n",
        "# here is including tax price of cement\n",
        "tax_able_price = (total_price_of_cement + total_tax_amount)\n",
        "print(tax_able_price)\n",
        "\n",
        "# Here is our final price, and the customer takes the item after they pay\n",
        "final_price_of_cement = tax_able_price\n",
        "print(final_price_of_cement)\n",
        "\n"
      ]
    },
    {
      "cell_type": "markdown",
      "id": "b1aa5351-43b1-401f-b15a-ecff2d4c393b",
      "metadata": {
        "id": "b1aa5351-43b1-401f-b15a-ecff2d4c393b"
      },
      "source": [
        "2. Given the cost of various containers of eggs (perhaps half a dozen, one dozen, and 1 1/2 dozen), determine the cost _per egg_ for each of those containers.\n",
        "  "
      ]
    },
    {
      "cell_type": "code",
      "execution_count": 16,
      "id": "e757836e-1848-434f-9301-d41470770f49",
      "metadata": {
        "colab": {
          "base_uri": "https://localhost:8080/"
        },
        "id": "e757836e-1848-434f-9301-d41470770f49",
        "outputId": "a2b3cd8d-1dfe-466e-94f9-9e355adb8c7b"
      },
      "outputs": [
        {
          "output_type": "stream",
          "name": "stdout",
          "text": [
            "Total price of eggs in half dozen egg is = 0.33\n",
            "total price of each eggs in one dozen container is = 0.21\n",
            "total price of each eggs in one dozen container is = 0.17\n"
          ]
        }
      ],
      "source": [
        "\n",
        "# Exercise 1 - Part 2\n",
        "\n",
        "#total eggs each container\n",
        "half_dozen_eggs = 6\n",
        "one_dozen_eaggs = 12\n",
        "one_and_half_dozen_eggs = 18\n",
        "\n",
        "#total_price_of dozen_eggs\n",
        "half_dozen_eggs_price = 1.99\n",
        "one_dozen_eaggs_price = 2.50\n",
        "one_and_half_dozen_eggs_price = 2.99\n",
        "\n",
        "#total price of eggs half dozen container\n",
        "total_price_each_eggs_in_half_dozen_container = (round(half_dozen_eggs_price/half_dozen_eggs,2))\n",
        "print(\"Total price of eggs in half dozen egg is =\",total_price_each_eggs_in_half_dozen_container)\n",
        "\n",
        "#total price of eggs one dozen container\n",
        "total_price_each_eggs_in_one_dozen_container = (round(one_dozen_eaggs_price/one_dozen_eaggs,2))\n",
        "print(\"total price of each eggs in one dozen container is =\", total_price_each_eggs_in_one_dozen_container)\n",
        "\n",
        "#total price of eggs one_and_half_dozen_eggs container\n",
        "total_price_each_eggs_one_and_half_dozen_container = (round (one_and_half_dozen_eggs_price/one_and_half_dozen_eggs,2))\n",
        "print(\"total price of each eggs in one dozen container is =\", total_price_each_eggs_one_and_half_dozen_container)\n",
        "\n"
      ]
    },
    {
      "cell_type": "markdown",
      "id": "192dfb2f-790e-4725-b201-3b803f4fc348",
      "metadata": {
        "id": "192dfb2f-790e-4725-b201-3b803f4fc348"
      },
      "source": [
        "3. Given an hourly wage and a number of hours worked, determine how much a worker should be paid for shoveling snow."
      ]
    },
    {
      "cell_type": "code",
      "execution_count": 17,
      "id": "9f098469-0470-4a68-ba73-721bd6526c2c",
      "metadata": {
        "colab": {
          "base_uri": "https://localhost:8080/"
        },
        "id": "9f098469-0470-4a68-ba73-721bd6526c2c",
        "outputId": "0acf2bcf-30e5-4f7f-afaa-ee5b757b5927"
      },
      "outputs": [
        {
          "output_type": "stream",
          "name": "stdout",
          "text": [
            "John Smoth makes each week =  600\n"
          ]
        }
      ],
      "source": [
        "# Exercise 1 - Part 3\n",
        "\n",
        "\n",
        "# Shoveling each hour, I pay $15 for 40 hours\n",
        "\n",
        "First_Name = 'John '\n",
        "Last_Name = 'Smoth'\n",
        "fullName = (First_Name +  Last_Name)\n",
        "\n",
        "# He work in my company each weesks 40 hours\n",
        "\n",
        "hours = 40\n",
        "per_hour_rate = 15\n",
        "total_amount_money_pay = (hours* per_hour_rate)\n",
        "print(fullName, \"makes each week = \",total_amount_money_pay )\n"
      ]
    },
    {
      "cell_type": "markdown",
      "id": "3a702132-7720-45b3-97d6-6dc7d4fc1113",
      "metadata": {
        "id": "3a702132-7720-45b3-97d6-6dc7d4fc1113"
      },
      "source": [
        "### Exercise 2: Boolean Expressions\n",
        "* Each scenario below describes some data to be manipulated by your code. Choose appropriate variable names (and values) and create Boolean expressions for these scenarios.\n",
        "  "
      ]
    },
    {
      "cell_type": "markdown",
      "id": "192e9f66-c2a7-4933-beaa-4666f57ac042",
      "metadata": {
        "id": "192e9f66-c2a7-4933-beaa-4666f57ac042"
      },
      "source": [
        "1. Given the number of hours worked in a week, determine whether the employee will receive any overtime pay.\n",
        "  "
      ]
    },
    {
      "cell_type": "code",
      "execution_count": 19,
      "id": "d99bbc14-4ab9-4cc2-abf4-0f847d4aa95c",
      "metadata": {
        "colab": {
          "base_uri": "https://localhost:8080/"
        },
        "id": "d99bbc14-4ab9-4cc2-abf4-0f847d4aa95c",
        "outputId": "4e0f31c5-10dd-4e98-a28c-d0e1a1a761fa"
      },
      "outputs": [
        {
          "output_type": "stream",
          "name": "stdout",
          "text": [
            "Paying regular hours per rate\n"
          ]
        }
      ],
      "source": [
        "# Exercise 2 - Part 1\n",
        "# In back yeard cleaning each hour, regular pay $20 for 40 hours, overtime pay rate 1.5 times each hour\n",
        "\n",
        "\n",
        "# He work in my company each weesks 40 hours\n",
        "\n",
        "regular_hours = 40\n",
        "regular_rate_per_hour = 20\n",
        "over_time_rate_per_hour = (1.5 * regular_rate_per_hour)\n",
        "over_time_works_per_week = 10\n",
        "\n",
        "if regular_hours >= 40:\n",
        "  print(\"Paying regular hours per rate\")\n",
        "elif regular_hours > 40:\n",
        "  print(\"over time pay rate\")\n",
        "else:\n",
        "  print(\"You are not eligible for paying over time\")\n",
        "\n"
      ]
    },
    {
      "cell_type": "markdown",
      "id": "39e3ed1b-b146-4653-a011-05cc34913574",
      "metadata": {
        "id": "39e3ed1b-b146-4653-a011-05cc34913574"
      },
      "source": [
        "2. Determine whether someone else's name is the same as your name.\n",
        "  "
      ]
    },
    {
      "cell_type": "code",
      "execution_count": 7,
      "id": "99c07417-eb54-44db-8fdf-d890b0f48892",
      "metadata": {
        "colab": {
          "base_uri": "https://localhost:8080/"
        },
        "id": "99c07417-eb54-44db-8fdf-d890b0f48892",
        "outputId": "3f09e7d0-162c-443c-f4a4-ef9ee8ef0e7d"
      },
      "outputs": [
        {
          "output_type": "stream",
          "name": "stdout",
          "text": [
            "Mohammad Hussain\n",
            " This name is someone as a name \n"
          ]
        }
      ],
      "source": [
        "# Exercise 2 - Part 2\n",
        "\n",
        "Fisrt_Name = 'Mohammad'\n",
        "Last_name = 'Hussain'\n",
        "fullName = (Fisrt_Name + ' ' + Last_name)\n",
        "print(fullName)\n",
        "\n",
        "if fullName == 'Mohammad Hussain':\n",
        "  print(\" This name is someone as a name \")\n",
        "else:\n",
        "  print(\"There isn't same name\")"
      ]
    },
    {
      "cell_type": "markdown",
      "id": "906a7a13-ae3e-4369-8853-a970d326c03e",
      "metadata": {
        "id": "906a7a13-ae3e-4369-8853-a970d326c03e"
      },
      "source": [
        "3. Determine whether the number of consecutive days of rain is at least 3"
      ]
    },
    {
      "cell_type": "code",
      "execution_count": 20,
      "id": "490fd285-10c5-4d98-8bb5-fde0566e6064",
      "metadata": {
        "colab": {
          "base_uri": "https://localhost:8080/"
        },
        "id": "490fd285-10c5-4d98-8bb5-fde0566e6064",
        "outputId": "206c986b-decf-45b6-bce2-a3dd58ebb1ea"
      },
      "outputs": [
        {
          "output_type": "stream",
          "name": "stdout",
          "text": [
            "Number of consecutive days of rain is at least 3\n"
          ]
        }
      ],
      "source": [
        "# Exercise 2 - Part 3\n",
        "\n",
        "rain = 5\n",
        "\n",
        "if rain >= 3:\n",
        "  print(\"Number of consecutive days of rain is at least 3\")\n",
        "else:\n",
        "  print(\"Number of consecutive days of rain is not at least 3\")\n",
        "\n",
        "\n",
        "\n"
      ]
    },
    {
      "cell_type": "markdown",
      "id": "6901b93f-56e3-4400-9acb-cee75d015682",
      "metadata": {
        "id": "6901b93f-56e3-4400-9acb-cee75d015682"
      },
      "source": [
        "### Exercise 3: Pseudocode\n",
        "* Turn the following bits of pseudocode into __`if`__ statements\n",
        "  "
      ]
    },
    {
      "cell_type": "markdown",
      "id": "9dfa5f07-9053-4497-ab09-a2dd4d4445f1",
      "metadata": {
        "id": "9dfa5f07-9053-4497-ab09-a2dd4d4445f1"
      },
      "source": [
        "1. Output a warning if the person's name is empty"
      ]
    },
    {
      "cell_type": "markdown",
      "id": "a3f4e55f-8d45-4fef-bfe2-a754e694872e",
      "metadata": {
        "id": "a3f4e55f-8d45-4fef-bfe2-a754e694872e"
      },
      "source": [
        "3. BMI can be calculated as 703 times weight in pounds, divided by height in inches squared. Output \"Healthy BMI\" if the calculated BMI is below 25."
      ]
    },
    {
      "cell_type": "markdown",
      "id": "8f66564d-86cf-4141-be27-fe41a0145695",
      "metadata": {
        "id": "8f66564d-86cf-4141-be27-fe41a0145695"
      },
      "source": [
        "2. Turn on the fuel warning light when the number of gallons remaining is less than 1.5"
      ]
    },
    {
      "cell_type": "code",
      "execution_count": 14,
      "id": "bad43ae1",
      "metadata": {
        "colab": {
          "base_uri": "https://localhost:8080/"
        },
        "id": "bad43ae1",
        "outputId": "30e33d58-cad7-4c5b-8f40-0bb75c0a4cf8"
      },
      "outputs": [
        {
          "output_type": "stream",
          "name": "stdout",
          "text": [
            "  Warning\n"
          ]
        }
      ],
      "source": [
        "# Exercise 3\n",
        "\n",
        "\n",
        "# Output a warning if the person's name is empty\n",
        "Name = ' '\n",
        "if Name == ' ':\n",
        "  print(Name ,'Warning')\n",
        "\n",
        "  # BMI can be calculated as 703 times weight in pounds, divided by height in inches squared. Output \"Healthy BMI\" if the calculated BMI is below 25.\n",
        "\n",
        "weight = 30\n",
        "Hight = 20\n",
        "bmi = 703*weight/Hight\n",
        "if bmi < 25:\n",
        "  print(\"Healthy BMI\")\n",
        "\n",
        "  # Turn on the fuel warning light when the number of gallons remaining is less than 1.5\n",
        "gallons = 4\n",
        "if gallons < 1.5:\n",
        "  print(\"Turn on the fuel warning light\")\n",
        "\n",
        "\n",
        "\n",
        "\n"
      ]
    },
    {
      "cell_type": "markdown",
      "id": "2c55859e-fa56-4690-a8a6-70b73e1249fc",
      "metadata": {
        "id": "2c55859e-fa56-4690-a8a6-70b73e1249fc"
      },
      "source": [
        "### Exercise 4: if statements\n",
        "* Explain what each of the following __`if`__ statements is doing/asking"
      ]
    },
    {
      "cell_type": "code",
      "execution_count": 6,
      "id": "e282eb92-7ac0-47c8-9ee6-6311d7832a39",
      "metadata": {
        "colab": {
          "base_uri": "https://localhost:8080/"
        },
        "id": "e282eb92-7ac0-47c8-9ee6-6311d7832a39",
        "outputId": "5755baf2-7438-46f9-86d6-718873db51a0"
      },
      "outputs": [
        {
          "output_type": "stream",
          "name": "stdout",
          "text": [
            "...\n"
          ]
        }
      ],
      "source": [
        "feet = 4\n",
        "inches = 8\n",
        "\n",
        "if feet * 12 + inches >= 56:\n",
        "    print('...')\n"
      ]
    },
    {
      "cell_type": "code",
      "execution_count": null,
      "id": "a403c893-6b7e-4497-9e44-14e1ca773181",
      "metadata": {
        "id": "a403c893-6b7e-4497-9e44-14e1ca773181"
      },
      "outputs": [],
      "source": [
        "# Exercise 4 - Part 1\n",
        "# Your explanation here\n",
        "\n",
        "# If total output values are 56 more it result could be nothing"
      ]
    },
    {
      "cell_type": "code",
      "execution_count": 5,
      "id": "d20594b7-6e22-49c9-af84-59f842357bc4",
      "metadata": {
        "colab": {
          "base_uri": "https://localhost:8080/"
        },
        "id": "d20594b7-6e22-49c9-af84-59f842357bc4",
        "outputId": "71935daf-274d-4e70-89a6-d3e8d792976d"
      },
      "outputs": [
        {
          "output_type": "stream",
          "name": "stdout",
          "text": [
            "9\n",
            "4\n"
          ]
        }
      ],
      "source": [
        "hours = 220\n",
        "days = 0\n",
        "\n",
        "if hours > 23:\n",
        "    days = hours // 24\n",
        "    print(days)\n",
        "\n",
        "print(hours - days * 24) #output show us remaining hours"
      ]
    },
    {
      "cell_type": "code",
      "execution_count": null,
      "id": "64dac05b-d423-448f-8369-6f0f6b0cb9c3",
      "metadata": {
        "id": "64dac05b-d423-448f-8369-6f0f6b0cb9c3"
      },
      "outputs": [],
      "source": [
        "# Exercise 4 - Part 2\n",
        "# Your explanation here\n",
        "\n",
        "# steps 1: Hours is more than 23\n",
        "# steps 2: Days convert into hours and first print out result should be show us days\n",
        "# steps 3: Uutput show us remaining hours"
      ]
    },
    {
      "cell_type": "code",
      "execution_count": 4,
      "id": "6b8c21b4-3a09-435d-a36c-0bde2fea31ad",
      "metadata": {
        "colab": {
          "base_uri": "https://localhost:8080/"
        },
        "id": "6b8c21b4-3a09-435d-a36c-0bde2fea31ad",
        "outputId": "c1be1236-a331-40b3-cd96-49f949a84d12"
      },
      "outputs": [
        {
          "output_type": "stream",
          "name": "stdout",
          "text": [
            "3 dozen\n",
            "plus 9\n"
          ]
        }
      ],
      "source": [
        "eggs = 45\n",
        "\n",
        "if eggs >= 12:\n",
        "    print(eggs // 12, 'dozen')\n",
        "\n",
        "print('plus', eggs - (eggs // 12) * 12)\n"
      ]
    },
    {
      "cell_type": "code",
      "execution_count": null,
      "id": "23dee90b-6807-4ca7-8a3b-77a58c21217f",
      "metadata": {
        "id": "23dee90b-6807-4ca7-8a3b-77a58c21217f"
      },
      "outputs": [],
      "source": [
        "# Exercise 4 - Part 3\n",
        "# Your explanation here\n",
        "\n",
        "# steps 1: Check if you have 12 Eggs or more. how many doze is there\n",
        "# steps 2: How dozen eggs is here\n",
        "# steps 3: # output how many leftofver eggs and don't make dozen eggs"
      ]
    },
    {
      "cell_type": "markdown",
      "id": "b0196bce-78f4-489f-8209-0e4d0eb601b9",
      "metadata": {
        "id": "b0196bce-78f4-489f-8209-0e4d0eb601b9"
      },
      "source": [
        "### Exercise 5: if statements\n",
        "1. Turn the following English description of a problem (steps) into pseudocode. Not that where you see \"find out\" below, you can either assume the value will be in a variable, or you can get input from the user. Remember this is pseudocode you are writing, so even though we haven't learned how to get input from the user, you could specify that action in your pseudocode.\n",
        "\n",
        "    1. find out how many people are in their party\n",
        "    1. find out the start time of the movie they want to see\n",
        "    1. find out how many seniors (62 and older) are in their party\n",
        "    1. find out how many students are in their party\n",
        "    1. the price of their tickets will be $10 each for movies that start after 4:30 pm and $7.50 for movies that start before 4:30 pm\n",
        "    1. seniors (62 and older) receive a 50% discount on the ticket price\n",
        "    1. students received a 25% discount on the ticket price\n",
        "    1. a group of 10 or more paid at the same time saves $1 per ticket, on top of any other discounts\n",
        "\n",
        "1. Now turn your pseudocode into working Python code. Again, we haven't learned how to get input from the user but could also look it up or you could set variables with various values and ensure the result is correct."
      ]
    },
    {
      "cell_type": "code",
      "execution_count": null,
      "id": "c6738a10-12ad-410a-8b16-b1b8a517cece",
      "metadata": {
        "id": "c6738a10-12ad-410a-8b16-b1b8a517cece"
      },
      "outputs": [],
      "source": [
        "# Exercise 5"
      ]
    },
    {
      "cell_type": "code",
      "metadata": {
        "id": "7bdc8ecf"
      },
      "source": [
        "# Exercise 2 - Part 3\n",
        "\n",
        "# Determine whether the number of consecutive days of rain is at least 3\n",
        "\n",
        "consecutive_rainy_days = 5  # You can change this value to test different scenarios\n",
        "\n",
        "is_at_least_3_rainy_days = consecutive_rainy_days >= 3\n",
        "\n",
        "print(f\"Is the number of consecutive rainy days at least 3? {is_at_least_3_rainy_days}\")"
      ],
      "id": "7bdc8ecf",
      "execution_count": null,
      "outputs": []
    }
  ],
  "metadata": {
    "kernelspec": {
      "display_name": "Python 3 (ipykernel)",
      "language": "python",
      "name": "python3"
    },
    "language_info": {
      "codemirror_mode": {
        "name": "ipython",
        "version": 3
      },
      "file_extension": ".py",
      "mimetype": "text/x-python",
      "name": "python",
      "nbconvert_exporter": "python",
      "pygments_lexer": "ipython3",
      "version": "3.13.1"
    },
    "colab": {
      "provenance": []
    }
  },
  "nbformat": 4,
  "nbformat_minor": 5
}